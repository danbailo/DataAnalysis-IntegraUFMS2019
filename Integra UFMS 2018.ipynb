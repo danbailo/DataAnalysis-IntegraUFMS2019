{
 "cells": [
  {
   "cell_type": "code",
   "execution_count": null,
   "metadata": {},
   "outputs": [],
   "source": [
    "import camelot\n",
    "import pandas as pd\n",
    "from functools import reduce\n",
    "import numpy as np"
   ]
  },
  {
   "cell_type": "code",
   "execution_count": null,
   "metadata": {},
   "outputs": [],
   "source": [
    "def get_data(tables):\n",
    "    data_frames = []\n",
    "    for i in range(len(tables)):\n",
    "        data_frames.append(tables[i].df)\n",
    "    return data_frames     "
   ]
  },
  {
   "cell_type": "code",
   "execution_count": null,
   "metadata": {},
   "outputs": [],
   "source": [
    "data_frames = get_data(camelot.read_pdf('2018/prograd.pdf', pages='4-end', flavor='lattice', strip_text='\\\\n'))"
   ]
  },
  {
   "cell_type": "code",
   "execution_count": null,
   "metadata": {},
   "outputs": [],
   "source": [
    "for df in data_frames: #OK\n",
    "    if 6 in df: df.drop(6,axis=1,inplace=True) #REMOVE AS COLUNAS EM BRANCO"
   ]
  },
  {
   "cell_type": "code",
   "execution_count": null,
   "metadata": {},
   "outputs": [],
   "source": [
    "for i in range(len(data_frames)): # '~' SIGNIFICA 'NEGAÇÃO', ENT, QND EU PASSO ISSO, EU PEGO O INVERSO DO QUE EU QUERO\n",
    "    data_frames[i] = data_frames[i][~data_frames[i].isin(values=['']).all(axis=1)] #REMOVE AS LINHAS EM BRANCO\n",
    "    data_frames[i] = data_frames[i].replace(regex='\\\\n', value=' ') #SUBSTITIU OS \\n POR ESPACOS EM BRANCO\n",
    "    data_frames[i] = data_frames[i][~data_frames[i][0].str.contains(\"Data de apresentação\")] #VAI REMOVER AS LINHAS QUE TEM ESSA STRING EM ALGUMA TUPLA\n",
    "    data_frames[i] = data_frames[i][~data_frames[i].isin(values=['Unidade','Programa/ Projeto','Coordenador','Área de Conhecimento','Título trabalho','Apresentador']).all(axis=1)]\n",
    "    data_frames[i] = data_frames[i][~data_frames[i].isin(values=['Unidade','Programa /Projeto','Coordenador','Área de Conhecimento','Título trabalho','Apresentador']).all(axis=1)]    \n",
    "    #ESSES DOIS ULTIMOS, SE ATENDER A TODOS OS PARAMETROS, RETORNA TRUE E REMOVE A LINHA"
   ]
  },
  {
   "cell_type": "code",
   "execution_count": null,
   "metadata": {},
   "outputs": [],
   "source": [
    "data_frames[12]"
   ]
  },
  {
   "cell_type": "code",
   "execution_count": null,
   "metadata": {},
   "outputs": [],
   "source": [
    "df = reduce(lambda left,right: pd.merge(left,right,on=[0,1,2,3,4,5],how='outer'), data_frames)"
   ]
  },
  {
   "cell_type": "code",
   "execution_count": null,
   "metadata": {},
   "outputs": [],
   "source": [
    "df = df[~df.isin(values=[''])] #RETORNA NaN PARA OS VALORES QUE SAO UMA STRING VAZIA"
   ]
  },
  {
   "cell_type": "code",
   "execution_count": null,
   "metadata": {},
   "outputs": [],
   "source": [
    "df.ffill(axis=0, inplace=True) #ATRIBUI O ULTIMO VALOR PARA UM NaN ENCONTRADO"
   ]
  },
  {
   "cell_type": "code",
   "execution_count": null,
   "metadata": {},
   "outputs": [],
   "source": [
    "df.rename(columns={ #RENOMEIA AS COLUNAS\n",
    "    0:'Unidade', 1:'Programa/Projeto', 2:'Coordenador',\n",
    "    3:'Área de Conhecimento', 4:'Título trabalho', 5:'Apresentador'},inplace=True)"
   ]
  },
  {
   "cell_type": "code",
   "execution_count": null,
   "metadata": {},
   "outputs": [],
   "source": [
    "df"
   ]
  },
  {
   "cell_type": "code",
   "execution_count": null,
   "metadata": {},
   "outputs": [],
   "source": []
  }
 ],
 "metadata": {
  "kernelspec": {
   "display_name": "Python 3",
   "language": "python",
   "name": "python3"
  },
  "language_info": {
   "codemirror_mode": {
    "name": "ipython",
    "version": 3
   },
   "file_extension": ".py",
   "mimetype": "text/x-python",
   "name": "python",
   "nbconvert_exporter": "python",
   "pygments_lexer": "ipython3",
   "version": "3.6.7"
  }
 },
 "nbformat": 4,
 "nbformat_minor": 2
}
