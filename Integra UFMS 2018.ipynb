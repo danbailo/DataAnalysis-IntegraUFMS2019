{
 "cells": [
  {
   "cell_type": "code",
   "execution_count": null,
   "metadata": {},
   "outputs": [],
   "source": [
    "import camelot\n",
    "import pandas as pd\n",
    "import json\n",
    "from functools import reduce\n",
    "import matplotlib.pyplot as plt\n",
    "import numpy as np"
   ]
  },
  {
   "cell_type": "code",
   "execution_count": null,
   "metadata": {},
   "outputs": [],
   "source": [
    "def get_data(tables):\n",
    "    data_frames = []\n",
    "    for i in range(len(tables)):\n",
    "        data_frames.append(tables[i].df)\n",
    "    return data_frames     "
   ]
  },
  {
   "cell_type": "code",
   "execution_count": null,
   "metadata": {},
   "outputs": [],
   "source": [
    "data_frames = get_data(camelot.read_pdf('2018/prograd.pdf', pages='4-end', flavor='lattice', strip_text='\\n'))"
   ]
  },
  {
   "cell_type": "code",
   "execution_count": null,
   "metadata": {},
   "outputs": [],
   "source": [
    "data_frames[0].drop(0,inplace=True)"
   ]
  },
  {
   "cell_type": "code",
   "execution_count": null,
   "metadata": {},
   "outputs": [],
   "source": [
    "data_frames[1].drop(1,inplace=True)"
   ]
  },
  {
   "cell_type": "code",
   "execution_count": null,
   "metadata": {},
   "outputs": [],
   "source": [
    "data_frames[2].drop(1,inplace=True)"
   ]
  },
  {
   "cell_type": "code",
   "execution_count": null,
   "metadata": {},
   "outputs": [],
   "source": [
    "data_frames[3].drop(1,inplace=True)"
   ]
  },
  {
   "cell_type": "code",
   "execution_count": null,
   "metadata": {},
   "outputs": [],
   "source": [
    "data_frames[4].drop(1,inplace=True)"
   ]
  },
  {
   "cell_type": "code",
   "execution_count": null,
   "metadata": {},
   "outputs": [],
   "source": [
    "data_frames[6].drop(0,inplace=True)"
   ]
  },
  {
   "cell_type": "code",
   "execution_count": null,
   "metadata": {},
   "outputs": [],
   "source": [
    "data_frames[7].drop(1,inplace=True)"
   ]
  },
  {
   "cell_type": "code",
   "execution_count": null,
   "metadata": {},
   "outputs": [],
   "source": [
    "data_frames[8].drop(0,inplace=True)"
   ]
  },
  {
   "cell_type": "code",
   "execution_count": null,
   "metadata": {},
   "outputs": [],
   "source": [
    "data_frames[10].drop(0,inplace=True)"
   ]
  },
  {
   "cell_type": "code",
   "execution_count": null,
   "metadata": {},
   "outputs": [],
   "source": [
    "data_frames[13].columns"
   ]
  },
  {
   "cell_type": "code",
   "execution_count": null,
   "metadata": {},
   "outputs": [],
   "source": [
    "new_data_frames = list()"
   ]
  },
  {
   "cell_type": "code",
   "execution_count": null,
   "metadata": {},
   "outputs": [],
   "source": [
    "if 6 in data_frames[8]: print('oi')"
   ]
  },
  {
   "cell_type": "code",
   "execution_count": null,
   "metadata": {},
   "outputs": [],
   "source": [
    "for i in data_frames: if 6 in i: i.drop(6,axis=1,inplace=True) #REMOVE AS COLUNAS EM BRANCO"
   ]
  },
  {
   "cell_type": "code",
   "execution_count": null,
   "metadata": {},
   "outputs": [],
   "source": [
    "df = pd.DataFrame(data=['daniel','','','lucas'])"
   ]
  },
  {
   "cell_type": "code",
   "execution_count": null,
   "metadata": {},
   "outputs": [],
   "source": [
    "x = df.isin(values=[''])"
   ]
  },
  {
   "cell_type": "code",
   "execution_count": null,
   "metadata": {},
   "outputs": [],
   "source": [
    "x.all()"
   ]
  },
  {
   "cell_type": "code",
   "execution_count": null,
   "metadata": {},
   "outputs": [],
   "source": [
    "#PAULO TELEGRAM\n",
    "for df in data_frames:\n",
    "    df = df[~df.isnull().all(axis=1)]\n",
    "\"deveria remover as linhas que contém algum valor nulo\""
   ]
  },
  {
   "cell_type": "code",
   "execution_count": 302,
   "metadata": {},
   "outputs": [
    {
     "data": {
      "text/plain": [
       "0     False\n",
       "1      True\n",
       "2     False\n",
       "3     False\n",
       "4     False\n",
       "5     False\n",
       "6     False\n",
       "7     False\n",
       "8     False\n",
       "9     False\n",
       "10    False\n",
       "11    False\n",
       "dtype: bool"
      ]
     },
     "execution_count": 302,
     "metadata": {},
     "output_type": "execute_result"
    }
   ],
   "source": [
    "data_frames[2].isin(values=['']).all(axis=1) #verifica qual sao as linhas que tem string vazia,\n",
    "#e retorna true pra essas que possuem vazio em todas as colunas"
   ]
  },
  {
   "cell_type": "code",
   "execution_count": 304,
   "metadata": {},
   "outputs": [
    {
     "data": {
      "text/plain": [
       "pandas.core.series.Series"
      ]
     },
     "execution_count": 304,
     "metadata": {},
     "output_type": "execute_result"
    }
   ],
   "source": [
    "type(data_frames[2].isin(values=['']).all(axis=1))"
   ]
  },
  {
   "cell_type": "code",
   "execution_count": 305,
   "metadata": {},
   "outputs": [],
   "source": [
    "series = data_frames[2].isin(values=['']).all(axis=1)"
   ]
  },
  {
   "cell_type": "code",
   "execution_count": 334,
   "metadata": {},
   "outputs": [
    {
     "data": {
      "text/html": [
       "<div>\n",
       "<style scoped>\n",
       "    .dataframe tbody tr th:only-of-type {\n",
       "        vertical-align: middle;\n",
       "    }\n",
       "\n",
       "    .dataframe tbody tr th {\n",
       "        vertical-align: top;\n",
       "    }\n",
       "\n",
       "    .dataframe thead th {\n",
       "        text-align: right;\n",
       "    }\n",
       "</style>\n",
       "<table border=\"1\" class=\"dataframe\">\n",
       "  <thead>\n",
       "    <tr style=\"text-align: right;\">\n",
       "      <th></th>\n",
       "      <th>0</th>\n",
       "      <th>1</th>\n",
       "      <th>2</th>\n",
       "      <th>3</th>\n",
       "      <th>4</th>\n",
       "      <th>5</th>\n",
       "    </tr>\n",
       "  </thead>\n",
       "  <tbody>\n",
       "    <tr>\n",
       "      <th>0</th>\n",
       "      <td>Unidade</td>\n",
       "      <td>Programa/Projeto</td>\n",
       "      <td>Coordenador</td>\n",
       "      <td>Área deConhecimento</td>\n",
       "      <td>Título trabalho</td>\n",
       "      <td>Apresentador</td>\n",
       "    </tr>\n",
       "    <tr>\n",
       "      <th>1</th>\n",
       "      <td></td>\n",
       "      <td></td>\n",
       "      <td></td>\n",
       "      <td></td>\n",
       "      <td></td>\n",
       "      <td></td>\n",
       "    </tr>\n",
       "    <tr>\n",
       "      <th>2</th>\n",
       "      <td>CPTL</td>\n",
       "      <td>PETMatemáticaConexões deSaberes</td>\n",
       "      <td>EugeniaBrunilda OpazoUribe</td>\n",
       "      <td>Ciências Exatas eda Terra</td>\n",
       "      <td>Contadores de histórias:incentivando a cultura...</td>\n",
       "      <td>Christian Luz Pelissari deOliveira; Carlos Hen...</td>\n",
       "    </tr>\n",
       "    <tr>\n",
       "      <th>3</th>\n",
       "      <td></td>\n",
       "      <td>PETMatemáticaConexões deSaberes</td>\n",
       "      <td>EugeniaBrunilda OpazoUribe</td>\n",
       "      <td>Ciências Exatas eda Terra</td>\n",
       "      <td>Ações do PET Conexões deSaberes Matemática/CPT...</td>\n",
       "      <td>Jéssica Soares de Souza;Tayla da Silva Correa ...</td>\n",
       "    </tr>\n",
       "    <tr>\n",
       "      <th>4</th>\n",
       "      <td></td>\n",
       "      <td>PETMatemáticaConexões deSaberes</td>\n",
       "      <td>EugeniaBrunilda OpazoUribe</td>\n",
       "      <td>Ciências Exatas eda Terra</td>\n",
       "      <td>Fábrica de jogos: contribuiçõesdo PET conexões...</td>\n",
       "      <td>Gerson dos Santos Farias;Ederson Luz Macedo</td>\n",
       "    </tr>\n",
       "    <tr>\n",
       "      <th>5</th>\n",
       "      <td></td>\n",
       "      <td>PETMatemáticaConexões deSaberes</td>\n",
       "      <td>EugeniaBrunilda OpazoUribe</td>\n",
       "      <td>Ciências Exatas eda Terra</td>\n",
       "      <td>O estudo de geometria e aformação de professor...</td>\n",
       "      <td>Pamella Roberta Ferreira daSilva; Ritchard Mat...</td>\n",
       "    </tr>\n",
       "    <tr>\n",
       "      <th>6</th>\n",
       "      <td></td>\n",
       "      <td>PETMatemáticaConexões deSaberes</td>\n",
       "      <td>EugeniaBrunilda OpazoUribe</td>\n",
       "      <td>Ciências Exatas eda Terra</td>\n",
       "      <td>Oficina de geometria especial: amedida da área...</td>\n",
       "      <td>Richard M. de S. Silva;Christian L. P. de Oliv...</td>\n",
       "    </tr>\n",
       "    <tr>\n",
       "      <th>7</th>\n",
       "      <td>Inqui</td>\n",
       "      <td>PETQuímica</td>\n",
       "      <td>SérgioCarvalho deAraújo</td>\n",
       "      <td>Ciências Exatas eda Terra</td>\n",
       "      <td>Show da química: uma propostalúdica para o ens...</td>\n",
       "      <td>Martinho José Alves deSousa; Myrella do Espíri...</td>\n",
       "    </tr>\n",
       "    <tr>\n",
       "      <th>8</th>\n",
       "      <td></td>\n",
       "      <td>PETQuímica</td>\n",
       "      <td>SérgioCarvalho deAraújo</td>\n",
       "      <td>Ciências Exatas eda Terra</td>\n",
       "      <td>Oficina temática no ensino dequímica “alimenta...</td>\n",
       "      <td>Nudson Souza Santos;Daniele Correia</td>\n",
       "    </tr>\n",
       "    <tr>\n",
       "      <th>9</th>\n",
       "      <td></td>\n",
       "      <td>PETQuímica</td>\n",
       "      <td>SérgioCarvalho deAraújo</td>\n",
       "      <td>Ciências Exatas eda Terra</td>\n",
       "      <td>Masterchef Science</td>\n",
       "      <td>Rafael Gonçalves Padilha;Rayanne Silva Santos;...</td>\n",
       "    </tr>\n",
       "    <tr>\n",
       "      <th>10</th>\n",
       "      <td>CPPP</td>\n",
       "      <td>PETMatemáticaConexões deSaberes</td>\n",
       "      <td>ClaudiaCarreira daRosa</td>\n",
       "      <td>Ciências Exatas eda Terra</td>\n",
       "      <td>Plantão PET</td>\n",
       "      <td>Giuliani Alessandra ToralesBenitez e Tchaila R...</td>\n",
       "    </tr>\n",
       "    <tr>\n",
       "      <th>11</th>\n",
       "      <td>CPPP</td>\n",
       "      <td>PETMatemáticaConexões deSaberes</td>\n",
       "      <td>ClaudiaCarreira daRosa</td>\n",
       "      <td>Ciências Exatas eda Terra</td>\n",
       "      <td>Monitorias nas Escolas: UmaPossibilidade de En...</td>\n",
       "      <td>Lucio Ramao MarecoTatsuta e Mary KarolineVilalba</td>\n",
       "    </tr>\n",
       "  </tbody>\n",
       "</table>\n",
       "</div>"
      ],
      "text/plain": [
       "          0                                1                           2  \\\n",
       "0   Unidade                 Programa/Projeto                 Coordenador   \n",
       "1                                                                          \n",
       "2      CPTL  PETMatemáticaConexões deSaberes  EugeniaBrunilda OpazoUribe   \n",
       "3            PETMatemáticaConexões deSaberes  EugeniaBrunilda OpazoUribe   \n",
       "4            PETMatemáticaConexões deSaberes  EugeniaBrunilda OpazoUribe   \n",
       "5            PETMatemáticaConexões deSaberes  EugeniaBrunilda OpazoUribe   \n",
       "6            PETMatemáticaConexões deSaberes  EugeniaBrunilda OpazoUribe   \n",
       "7     Inqui                       PETQuímica     SérgioCarvalho deAraújo   \n",
       "8                                 PETQuímica     SérgioCarvalho deAraújo   \n",
       "9                                 PETQuímica     SérgioCarvalho deAraújo   \n",
       "10     CPPP  PETMatemáticaConexões deSaberes      ClaudiaCarreira daRosa   \n",
       "11     CPPP  PETMatemáticaConexões deSaberes      ClaudiaCarreira daRosa   \n",
       "\n",
       "                            3  \\\n",
       "0         Área deConhecimento   \n",
       "1                               \n",
       "2   Ciências Exatas eda Terra   \n",
       "3   Ciências Exatas eda Terra   \n",
       "4   Ciências Exatas eda Terra   \n",
       "5   Ciências Exatas eda Terra   \n",
       "6   Ciências Exatas eda Terra   \n",
       "7   Ciências Exatas eda Terra   \n",
       "8   Ciências Exatas eda Terra   \n",
       "9   Ciências Exatas eda Terra   \n",
       "10  Ciências Exatas eda Terra   \n",
       "11  Ciências Exatas eda Terra   \n",
       "\n",
       "                                                    4  \\\n",
       "0                                     Título trabalho   \n",
       "1                                                       \n",
       "2   Contadores de histórias:incentivando a cultura...   \n",
       "3   Ações do PET Conexões deSaberes Matemática/CPT...   \n",
       "4   Fábrica de jogos: contribuiçõesdo PET conexões...   \n",
       "5   O estudo de geometria e aformação de professor...   \n",
       "6   Oficina de geometria especial: amedida da área...   \n",
       "7   Show da química: uma propostalúdica para o ens...   \n",
       "8   Oficina temática no ensino dequímica “alimenta...   \n",
       "9                                  Masterchef Science   \n",
       "10                                        Plantão PET   \n",
       "11  Monitorias nas Escolas: UmaPossibilidade de En...   \n",
       "\n",
       "                                                    5  \n",
       "0                                        Apresentador  \n",
       "1                                                      \n",
       "2   Christian Luz Pelissari deOliveira; Carlos Hen...  \n",
       "3   Jéssica Soares de Souza;Tayla da Silva Correa ...  \n",
       "4         Gerson dos Santos Farias;Ederson Luz Macedo  \n",
       "5   Pamella Roberta Ferreira daSilva; Ritchard Mat...  \n",
       "6   Richard M. de S. Silva;Christian L. P. de Oliv...  \n",
       "7   Martinho José Alves deSousa; Myrella do Espíri...  \n",
       "8                 Nudson Souza Santos;Daniele Correia  \n",
       "9   Rafael Gonçalves Padilha;Rayanne Silva Santos;...  \n",
       "10  Giuliani Alessandra ToralesBenitez e Tchaila R...  \n",
       "11   Lucio Ramao MarecoTatsuta e Mary KarolineVilalba  "
      ]
     },
     "execution_count": 334,
     "metadata": {},
     "output_type": "execute_result"
    }
   ],
   "source": [
    "data_frames[2]"
   ]
  },
  {
   "cell_type": "code",
   "execution_count": 301,
   "metadata": {},
   "outputs": [
    {
     "ename": "ValueError",
     "evalue": "Need to specify at least one of 'labels', 'index' or 'columns'",
     "output_type": "error",
     "traceback": [
      "\u001b[0;31m---------------------------------------------------------------------------\u001b[0m",
      "\u001b[0;31mValueError\u001b[0m                                Traceback (most recent call last)",
      "\u001b[0;32m<ipython-input-301-e1492db061a7>\u001b[0m in \u001b[0;36m<module>\u001b[0;34m\u001b[0m\n\u001b[1;32m      1\u001b[0m \u001b[0;32mfor\u001b[0m \u001b[0mdf\u001b[0m \u001b[0;32min\u001b[0m \u001b[0mdata_frames\u001b[0m\u001b[0;34m:\u001b[0m\u001b[0;34m\u001b[0m\u001b[0;34m\u001b[0m\u001b[0m\n\u001b[1;32m      2\u001b[0m     \u001b[0;32mfor\u001b[0m \u001b[0mx\u001b[0m \u001b[0;32min\u001b[0m \u001b[0mdf\u001b[0m\u001b[0;34m.\u001b[0m\u001b[0misin\u001b[0m\u001b[0;34m(\u001b[0m\u001b[0mvalues\u001b[0m\u001b[0;34m=\u001b[0m\u001b[0;34m[\u001b[0m\u001b[0;34m''\u001b[0m\u001b[0;34m]\u001b[0m\u001b[0;34m)\u001b[0m\u001b[0;34m.\u001b[0m\u001b[0mall\u001b[0m\u001b[0;34m(\u001b[0m\u001b[0maxis\u001b[0m\u001b[0;34m=\u001b[0m\u001b[0;36m1\u001b[0m\u001b[0;34m)\u001b[0m\u001b[0;34m:\u001b[0m\u001b[0;34m\u001b[0m\u001b[0;34m\u001b[0m\u001b[0m\n\u001b[0;32m----> 3\u001b[0;31m         \u001b[0;32mif\u001b[0m \u001b[0mx\u001b[0m \u001b[0;34m==\u001b[0m \u001b[0;32mTrue\u001b[0m\u001b[0;34m:\u001b[0m \u001b[0mdf\u001b[0m\u001b[0;34m.\u001b[0m\u001b[0mdrop\u001b[0m\u001b[0;34m(\u001b[0m\u001b[0;34m)\u001b[0m\u001b[0;34m\u001b[0m\u001b[0;34m\u001b[0m\u001b[0m\n\u001b[0m",
      "\u001b[0;32m~/.local/lib/python3.6/site-packages/pandas/core/frame.py\u001b[0m in \u001b[0;36mdrop\u001b[0;34m(self, labels, axis, index, columns, level, inplace, errors)\u001b[0m\n\u001b[1;32m   3938\u001b[0m                                            \u001b[0mindex\u001b[0m\u001b[0;34m=\u001b[0m\u001b[0mindex\u001b[0m\u001b[0;34m,\u001b[0m \u001b[0mcolumns\u001b[0m\u001b[0;34m=\u001b[0m\u001b[0mcolumns\u001b[0m\u001b[0;34m,\u001b[0m\u001b[0;34m\u001b[0m\u001b[0;34m\u001b[0m\u001b[0m\n\u001b[1;32m   3939\u001b[0m                                            \u001b[0mlevel\u001b[0m\u001b[0;34m=\u001b[0m\u001b[0mlevel\u001b[0m\u001b[0;34m,\u001b[0m \u001b[0minplace\u001b[0m\u001b[0;34m=\u001b[0m\u001b[0minplace\u001b[0m\u001b[0;34m,\u001b[0m\u001b[0;34m\u001b[0m\u001b[0;34m\u001b[0m\u001b[0m\n\u001b[0;32m-> 3940\u001b[0;31m                                            errors=errors)\n\u001b[0m\u001b[1;32m   3941\u001b[0m \u001b[0;34m\u001b[0m\u001b[0m\n\u001b[1;32m   3942\u001b[0m     @rewrite_axis_style_signature('mapper', [('copy', True),\n",
      "\u001b[0;32m~/.local/lib/python3.6/site-packages/pandas/core/generic.py\u001b[0m in \u001b[0;36mdrop\u001b[0;34m(self, labels, axis, index, columns, level, inplace, errors)\u001b[0m\n\u001b[1;32m   3771\u001b[0m             \u001b[0maxes\u001b[0m\u001b[0;34m,\u001b[0m \u001b[0m_\u001b[0m \u001b[0;34m=\u001b[0m \u001b[0mself\u001b[0m\u001b[0;34m.\u001b[0m\u001b[0m_construct_axes_from_arguments\u001b[0m\u001b[0;34m(\u001b[0m\u001b[0;34m(\u001b[0m\u001b[0mindex\u001b[0m\u001b[0;34m,\u001b[0m \u001b[0mcolumns\u001b[0m\u001b[0;34m)\u001b[0m\u001b[0;34m,\u001b[0m \u001b[0;34m{\u001b[0m\u001b[0;34m}\u001b[0m\u001b[0;34m)\u001b[0m\u001b[0;34m\u001b[0m\u001b[0;34m\u001b[0m\u001b[0m\n\u001b[1;32m   3772\u001b[0m         \u001b[0;32melse\u001b[0m\u001b[0;34m:\u001b[0m\u001b[0;34m\u001b[0m\u001b[0;34m\u001b[0m\u001b[0m\n\u001b[0;32m-> 3773\u001b[0;31m             raise ValueError(\"Need to specify at least one of 'labels', \"\n\u001b[0m\u001b[1;32m   3774\u001b[0m                              \"'index' or 'columns'\")\n\u001b[1;32m   3775\u001b[0m \u001b[0;34m\u001b[0m\u001b[0m\n",
      "\u001b[0;31mValueError\u001b[0m: Need to specify at least one of 'labels', 'index' or 'columns'"
     ]
    }
   ],
   "source": [
    "for df in data_frames:\n",
    "    for x in df.isin(values=['']).all(axis=1):\n",
    "        if x == True: df.drop()"
   ]
  },
  {
   "cell_type": "code",
   "execution_count": null,
   "metadata": {},
   "outputs": [],
   "source": [
    "for_rm_df = list()"
   ]
  },
  {
   "cell_type": "code",
   "execution_count": null,
   "metadata": {},
   "outputs": [],
   "source": [
    "for df in data_frames:\n",
    "    for_rm_df.append(df.isin(values=['']).all(axis=1))"
   ]
  },
  {
   "cell_type": "code",
   "execution_count": null,
   "metadata": {},
   "outputs": [],
   "source": [
    "for_rm_df"
   ]
  },
  {
   "cell_type": "code",
   "execution_count": null,
   "metadata": {},
   "outputs": [],
   "source": []
  },
  {
   "cell_type": "code",
   "execution_count": null,
   "metadata": {},
   "outputs": [],
   "source": []
  },
  {
   "cell_type": "code",
   "execution_count": null,
   "metadata": {},
   "outputs": [],
   "source": [
    "df = reduce(lambda left,right: pd.merge(left,right,on=[0,1,2,3,4,5],how='outer'), data_frames)"
   ]
  },
  {
   "cell_type": "code",
   "execution_count": null,
   "metadata": {},
   "outputs": [],
   "source": [
    "df.drop(0, inplace=True)\n",
    "df.rename(columns={\n",
    "    0:'Unidade', 1:'Programa/Projeto', 2:'Coordenador', \n",
    "    3:'Área de Conhecimento', 4:'Título trabalho', 5:'Apresentador'},inplace=True)"
   ]
  }
 ],
 "metadata": {
  "kernelspec": {
   "display_name": "Python 3",
   "language": "python",
   "name": "python3"
  },
  "language_info": {
   "codemirror_mode": {
    "name": "ipython",
    "version": 3
   },
   "file_extension": ".py",
   "mimetype": "text/x-python",
   "name": "python",
   "nbconvert_exporter": "python",
   "pygments_lexer": "ipython3",
   "version": "3.6.7"
  }
 },
 "nbformat": 4,
 "nbformat_minor": 2
}
