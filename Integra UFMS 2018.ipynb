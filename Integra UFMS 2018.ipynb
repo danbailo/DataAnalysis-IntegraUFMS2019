{
 "cells": [
  {
   "cell_type": "code",
   "execution_count": null,
   "metadata": {},
   "outputs": [],
   "source": [
    "import camelot\n",
    "import pandas as pd\n",
    "from functools import reduce\n",
    "import numpy as np"
   ]
  },
  {
   "cell_type": "code",
   "execution_count": null,
   "metadata": {},
   "outputs": [],
   "source": [
    "def get_data(tables):\n",
    "    data_frames = []\n",
    "    for i in range(len(tables)):\n",
    "        data_frames.append(tables[i].df)\n",
    "    return data_frames     "
   ]
  },
  {
   "cell_type": "code",
   "execution_count": null,
   "metadata": {},
   "outputs": [],
   "source": [
    "data_frames = get_data(camelot.read_pdf('2018/prograd.pdf', pages='4-end', flavor='lattice', strip_text='\\\\n'))"
   ]
  },
  {
   "cell_type": "code",
   "execution_count": null,
   "metadata": {},
   "outputs": [],
   "source": [
    "#data_frames[0][0]=='Unidade'\n",
    "#data_frames[0][data_frames[0][0]=='Unidade']"
   ]
  },
  {
   "cell_type": "code",
   "execution_count": null,
   "metadata": {},
   "outputs": [],
   "source": [
    "#data_frames[2].replace(regex='\\\\n', value=' ')"
   ]
  },
  {
   "cell_type": "code",
   "execution_count": null,
   "metadata": {},
   "outputs": [],
   "source": [
    "#data_frames[2][data_frames[2].isin(values=['']).all(axis=1)]"
   ]
  },
  {
   "cell_type": "code",
   "execution_count": null,
   "metadata": {},
   "outputs": [],
   "source": [
    "#data_frames[2][~data_frames[2].isin(values=['']).all(axis=1)] #retorna a negacao do de cima!"
   ]
  },
  {
   "cell_type": "code",
   "execution_count": null,
   "metadata": {},
   "outputs": [],
   "source": [
    "for df in data_frames: #OK\n",
    "    if 6 in df: df.drop(6,axis=1,inplace=True) #REMOVE AS COLUNAS EM BRANCO\n",
    "#     df[~df.isin(values=['']).all(axis=1)]"
   ]
  },
  {
   "cell_type": "code",
   "execution_count": null,
   "metadata": {},
   "outputs": [],
   "source": [
    "for i in range(len(data_frames)): #REMOVE AS LINHAS EM BRANCO\n",
    "    data_frames[i] = data_frames[i][~data_frames[i].isin(values=['']).all(axis=1)]\n",
    "    #data_frames[i] = data_frames[i].replace(regex='\\\\n', value=' ')\n",
    "    #data_frames[i] = data_frames[i][~data_frames[i][0].str.contains(\"Data de apresentação\")]\n",
    "    #data_frames[i] = data_frames[i][~data_frames[i].isin(values=['Unidade','Programa/Projeto','Coordenador','Área de Conhecimento','Título trabalho','Apresentador']).all(axis=1)]"
   ]
  },
  {
   "cell_type": "code",
   "execution_count": null,
   "metadata": {},
   "outputs": [],
   "source": [
    "data_frames[2]"
   ]
  },
  {
   "cell_type": "code",
   "execution_count": 446,
   "metadata": {},
   "outputs": [],
   "source": [
    "for i in range(len(data_frames)): #TROCA OS \\n POR ESPACOS\n",
    "    #data_frames[i] = data_frames[i][~data_frames[i].isin(values=['']).all(axis=1)]\n",
    "    data_frames[i] = data_frames[i].replace(regex='\\\\n', value=' ')\n",
    "    #data_frames[i] = data_frames[i][~data_frames[i][0].str.contains(\"Data de apresentação\")]\n",
    "    #data_frames[i] = data_frames[i][~data_frames[i].isin(values=['Unidade','Programa/Projeto','Coordenador','Área de Conhecimento','Título trabalho','Apresentador']).all(axis=1)]"
   ]
  },
  {
   "cell_type": "code",
   "execution_count": null,
   "metadata": {},
   "outputs": [],
   "source": [
    "data_frames[2]"
   ]
  },
  {
   "cell_type": "code",
   "execution_count": 454,
   "metadata": {},
   "outputs": [],
   "source": [
    "for i in range(len(data_frames)): #REMOVE AS LINHAS COM DATA DE APRESENTACAO\n",
    "    #data_frames[i] = data_frames[i][~data_frames[i].isin(values=['']).all(axis=1)]\n",
    "    #data_frames[i] = data_frames[i].replace(regex='\\\\n', value=' ')\n",
    "    data_frames[i] = data_frames[i][~data_frames[i][0].str.contains(\"Data de apresentação\")]\n",
    "    #data_frames[i] = data_frames[i][~data_frames[i].isin(values=['Unidade','Programa/Projeto','Coordenador','Área de Conhecimento','Título trabalho','Apresentador']).all(axis=1)]"
   ]
  },
  {
   "cell_type": "code",
   "execution_count": 455,
   "metadata": {},
   "outputs": [
    {
     "data": {
      "text/html": [
       "<div>\n",
       "<style scoped>\n",
       "    .dataframe tbody tr th:only-of-type {\n",
       "        vertical-align: middle;\n",
       "    }\n",
       "\n",
       "    .dataframe tbody tr th {\n",
       "        vertical-align: top;\n",
       "    }\n",
       "\n",
       "    .dataframe thead th {\n",
       "        text-align: right;\n",
       "    }\n",
       "</style>\n",
       "<table border=\"1\" class=\"dataframe\">\n",
       "  <thead>\n",
       "    <tr style=\"text-align: right;\">\n",
       "      <th></th>\n",
       "      <th>0</th>\n",
       "      <th>1</th>\n",
       "      <th>2</th>\n",
       "      <th>3</th>\n",
       "      <th>4</th>\n",
       "      <th>5</th>\n",
       "    </tr>\n",
       "  </thead>\n",
       "  <tbody>\n",
       "    <tr>\n",
       "      <th>1</th>\n",
       "      <td>Unidade</td>\n",
       "      <td>Programa/ Projeto</td>\n",
       "      <td>Coordenador</td>\n",
       "      <td>Área de Conhecimento</td>\n",
       "      <td>Título trabalho</td>\n",
       "      <td>Apresentador</td>\n",
       "    </tr>\n",
       "    <tr>\n",
       "      <th>2</th>\n",
       "      <td>CPTL</td>\n",
       "      <td>PET SAÚDE</td>\n",
       "      <td>Juliana Dias Reis Pessalacia</td>\n",
       "      <td>Ciências da Saúde</td>\n",
       "      <td>Experiências de integração do PET Saúde Gradua...</td>\n",
       "      <td>Nayla Aparecida Soares Couto</td>\n",
       "    </tr>\n",
       "    <tr>\n",
       "      <th>3</th>\n",
       "      <td>FAMED</td>\n",
       "      <td></td>\n",
       "      <td>Rosimeire Aparecida Manoel Seixas</td>\n",
       "      <td>Ciências da Saúde</td>\n",
       "      <td>As relações de cuidado do diabetes mellitus na...</td>\n",
       "      <td>Juliana Marques Benedito; Tais Rosa Calisto; J...</td>\n",
       "    </tr>\n",
       "    <tr>\n",
       "      <th>4</th>\n",
       "      <td></td>\n",
       "      <td></td>\n",
       "      <td>Rosimeire Aparecida Manoel Seixas</td>\n",
       "      <td>Ciências da Saúde</td>\n",
       "      <td>PET Saúde Graduasus na Medicina: Contribuições...</td>\n",
       "      <td>Patricia Cristina Vicente</td>\n",
       "    </tr>\n",
       "    <tr>\n",
       "      <th>5</th>\n",
       "      <td>Unidade</td>\n",
       "      <td>Programa/ Projeto</td>\n",
       "      <td>Coordenador</td>\n",
       "      <td>Área de Conhecimento</td>\n",
       "      <td>Título trabalho</td>\n",
       "      <td>Apresentador</td>\n",
       "    </tr>\n",
       "  </tbody>\n",
       "</table>\n",
       "</div>"
      ],
      "text/plain": [
       "         0                  1                                  2  \\\n",
       "1  Unidade  Programa/ Projeto                        Coordenador   \n",
       "2     CPTL          PET SAÚDE       Juliana Dias Reis Pessalacia   \n",
       "3    FAMED                     Rosimeire Aparecida Manoel Seixas   \n",
       "4                              Rosimeire Aparecida Manoel Seixas   \n",
       "5  Unidade  Programa/ Projeto                        Coordenador   \n",
       "\n",
       "                      3                                                  4  \\\n",
       "1  Área de Conhecimento                                    Título trabalho   \n",
       "2     Ciências da Saúde  Experiências de integração do PET Saúde Gradua...   \n",
       "3     Ciências da Saúde  As relações de cuidado do diabetes mellitus na...   \n",
       "4     Ciências da Saúde  PET Saúde Graduasus na Medicina: Contribuições...   \n",
       "5  Área de Conhecimento                                    Título trabalho   \n",
       "\n",
       "                                                   5  \n",
       "1                                       Apresentador  \n",
       "2                       Nayla Aparecida Soares Couto  \n",
       "3  Juliana Marques Benedito; Tais Rosa Calisto; J...  \n",
       "4                          Patricia Cristina Vicente  \n",
       "5                                       Apresentador  "
      ]
     },
     "execution_count": 455,
     "metadata": {},
     "output_type": "execute_result"
    }
   ],
   "source": [
    "data_frames[6]"
   ]
  },
  {
   "cell_type": "code",
   "execution_count": 457,
   "metadata": {},
   "outputs": [],
   "source": [
    "for i in range(len(data_frames)):\n",
    "    #data_frames[i] = data_frames[i][~data_frames[i].isin(values=['']).all(axis=1)]\n",
    "    #data_frames[i] = data_frames[i].replace(regex='\\\\n', value=' ')\n",
    "    #data_frames[i] = data_frames[i][~data_frames[i][0].str.contains(\"Data de apresentação\")]\n",
    "    data_frames[i] = data_frames[i][~data_frames[i].isin(values=['Unidade','Programa/ Projeto','Coordenador','Área de Conhecimento','Título trabalho','Apresentador']).all(axis=1)]"
   ]
  },
  {
   "cell_type": "code",
   "execution_count": 462,
   "metadata": {},
   "outputs": [
    {
     "data": {
      "text/html": [
       "<div>\n",
       "<style scoped>\n",
       "    .dataframe tbody tr th:only-of-type {\n",
       "        vertical-align: middle;\n",
       "    }\n",
       "\n",
       "    .dataframe tbody tr th {\n",
       "        vertical-align: top;\n",
       "    }\n",
       "\n",
       "    .dataframe thead th {\n",
       "        text-align: right;\n",
       "    }\n",
       "</style>\n",
       "<table border=\"1\" class=\"dataframe\">\n",
       "  <thead>\n",
       "    <tr style=\"text-align: right;\">\n",
       "      <th></th>\n",
       "      <th>0</th>\n",
       "      <th>1</th>\n",
       "      <th>2</th>\n",
       "      <th>3</th>\n",
       "      <th>4</th>\n",
       "      <th>5</th>\n",
       "    </tr>\n",
       "  </thead>\n",
       "  <tbody>\n",
       "    <tr>\n",
       "      <th>0</th>\n",
       "      <td>True</td>\n",
       "      <td>True</td>\n",
       "      <td>True</td>\n",
       "      <td>True</td>\n",
       "      <td>True</td>\n",
       "      <td>True</td>\n",
       "    </tr>\n",
       "    <tr>\n",
       "      <th>2</th>\n",
       "      <td>False</td>\n",
       "      <td>False</td>\n",
       "      <td>False</td>\n",
       "      <td>False</td>\n",
       "      <td>False</td>\n",
       "      <td>False</td>\n",
       "    </tr>\n",
       "    <tr>\n",
       "      <th>3</th>\n",
       "      <td>False</td>\n",
       "      <td>False</td>\n",
       "      <td>False</td>\n",
       "      <td>False</td>\n",
       "      <td>False</td>\n",
       "      <td>False</td>\n",
       "    </tr>\n",
       "    <tr>\n",
       "      <th>4</th>\n",
       "      <td>False</td>\n",
       "      <td>False</td>\n",
       "      <td>False</td>\n",
       "      <td>False</td>\n",
       "      <td>False</td>\n",
       "      <td>False</td>\n",
       "    </tr>\n",
       "    <tr>\n",
       "      <th>5</th>\n",
       "      <td>False</td>\n",
       "      <td>False</td>\n",
       "      <td>False</td>\n",
       "      <td>False</td>\n",
       "      <td>False</td>\n",
       "      <td>False</td>\n",
       "    </tr>\n",
       "    <tr>\n",
       "      <th>6</th>\n",
       "      <td>False</td>\n",
       "      <td>False</td>\n",
       "      <td>False</td>\n",
       "      <td>False</td>\n",
       "      <td>False</td>\n",
       "      <td>False</td>\n",
       "    </tr>\n",
       "    <tr>\n",
       "      <th>7</th>\n",
       "      <td>False</td>\n",
       "      <td>False</td>\n",
       "      <td>False</td>\n",
       "      <td>False</td>\n",
       "      <td>False</td>\n",
       "      <td>False</td>\n",
       "    </tr>\n",
       "    <tr>\n",
       "      <th>8</th>\n",
       "      <td>False</td>\n",
       "      <td>False</td>\n",
       "      <td>False</td>\n",
       "      <td>False</td>\n",
       "      <td>False</td>\n",
       "      <td>False</td>\n",
       "    </tr>\n",
       "    <tr>\n",
       "      <th>9</th>\n",
       "      <td>False</td>\n",
       "      <td>False</td>\n",
       "      <td>False</td>\n",
       "      <td>False</td>\n",
       "      <td>False</td>\n",
       "      <td>False</td>\n",
       "    </tr>\n",
       "    <tr>\n",
       "      <th>10</th>\n",
       "      <td>False</td>\n",
       "      <td>False</td>\n",
       "      <td>False</td>\n",
       "      <td>False</td>\n",
       "      <td>False</td>\n",
       "      <td>False</td>\n",
       "    </tr>\n",
       "    <tr>\n",
       "      <th>11</th>\n",
       "      <td>False</td>\n",
       "      <td>False</td>\n",
       "      <td>False</td>\n",
       "      <td>False</td>\n",
       "      <td>False</td>\n",
       "      <td>False</td>\n",
       "    </tr>\n",
       "  </tbody>\n",
       "</table>\n",
       "</div>"
      ],
      "text/plain": [
       "        0      1      2      3      4      5\n",
       "0    True   True   True   True   True   True\n",
       "2   False  False  False  False  False  False\n",
       "3   False  False  False  False  False  False\n",
       "4   False  False  False  False  False  False\n",
       "5   False  False  False  False  False  False\n",
       "6   False  False  False  False  False  False\n",
       "7   False  False  False  False  False  False\n",
       "8   False  False  False  False  False  False\n",
       "9   False  False  False  False  False  False\n",
       "10  False  False  False  False  False  False\n",
       "11  False  False  False  False  False  False"
      ]
     },
     "execution_count": 462,
     "metadata": {},
     "output_type": "execute_result"
    }
   ],
   "source": [
    "data_frames[2]"
   ]
  },
  {
   "cell_type": "code",
   "execution_count": null,
   "metadata": {},
   "outputs": [],
   "source": [
    "#data_frames[0][0].str.contains(\"Data de apresentação\") #NICEEE!!!"
   ]
  },
  {
   "cell_type": "code",
   "execution_count": null,
   "metadata": {},
   "outputs": [],
   "source": [
    "#data_frames[1][~data_frames[1][0].str.contains(\"Data de apresentação\")] #nessa celula eu removo as tuplas q \n",
    "#tem 'data de apresentacao' na primeira linha"
   ]
  },
  {
   "cell_type": "code",
   "execution_count": null,
   "metadata": {},
   "outputs": [],
   "source": [
    "# for i in range(len(data_frames)):\n",
    "#     data_frames[i] = data_frames[i][~data_frames[i][0].str.contains(\"Data de apresentação\")]"
   ]
  },
  {
   "cell_type": "code",
   "execution_count": null,
   "metadata": {},
   "outputs": [],
   "source": [
    "#data_frames[8]\n",
    "#'Unidade','Programa/Projeto','Coordenador','Área deConhecimento','Título trabalho','Apresentador'\n",
    "#Removo as linhas que contem esses dados\n",
    "#for i in range(len(data_frames)):\n",
    "#    data_frames[i] = data_frames[i][~data_frames[i].isin(values=['Unidade','Programa/Projeto','Coordenador','Área de Conhecimento','Título trabalho','Apresentador']).all(axis=1)]"
   ]
  },
  {
   "cell_type": "code",
   "execution_count": null,
   "metadata": {},
   "outputs": [],
   "source": [
    "df = reduce(lambda left,right: pd.merge(left,right,on=[0,1,2,3,4,5],how='outer'), data_frames)"
   ]
  },
  {
   "cell_type": "code",
   "execution_count": null,
   "metadata": {},
   "outputs": [],
   "source": [
    "df = df[~df.isin(values=[''])] #retorna NaN para os valores que sao string vazia, isso por causa da negacao"
   ]
  },
  {
   "cell_type": "code",
   "execution_count": null,
   "metadata": {},
   "outputs": [],
   "source": [
    "df.ffill(axis=0, inplace=True)"
   ]
  },
  {
   "cell_type": "code",
   "execution_count": null,
   "metadata": {},
   "outputs": [],
   "source": [
    "df.rename(columns={\n",
    "    0:'Unidade', 1:'Programa/Projeto', 2:'Coordenador',\n",
    "    3:'Área de Conhecimento', 4:'Título trabalho', 5:'Apresentador'},inplace=True)"
   ]
  },
  {
   "cell_type": "code",
   "execution_count": null,
   "metadata": {},
   "outputs": [],
   "source": [
    "df"
   ]
  },
  {
   "cell_type": "code",
   "execution_count": null,
   "metadata": {},
   "outputs": [],
   "source": [
    "#df.to_excel('teste_WITH_OUT_regex.xlsx')"
   ]
  },
  {
   "cell_type": "code",
   "execution_count": null,
   "metadata": {},
   "outputs": [],
   "source": []
  }
 ],
 "metadata": {
  "kernelspec": {
   "display_name": "Python 3",
   "language": "python",
   "name": "python3"
  },
  "language_info": {
   "codemirror_mode": {
    "name": "ipython",
    "version": 3
   },
   "file_extension": ".py",
   "mimetype": "text/x-python",
   "name": "python",
   "nbconvert_exporter": "python",
   "pygments_lexer": "ipython3",
   "version": "3.6.7"
  }
 },
 "nbformat": 4,
 "nbformat_minor": 2
}
